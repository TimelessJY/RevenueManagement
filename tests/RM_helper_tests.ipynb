{
 "cells": [
  {
   "cell_type": "code",
   "execution_count": 22,
   "metadata": {
    "collapsed": false
   },
   "outputs": [],
   "source": [
    "import unittest\n",
    "import numpy as np\n",
    "\n",
    "import sys\n",
    "sys.path.append('../')\n",
    "from src import RM_helper\n"
   ]
  },
  {
   "cell_type": "code",
   "execution_count": 23,
   "metadata": {
    "collapsed": false
   },
   "outputs": [
    {
     "name": "stderr",
     "output_type": "stream",
     "text": [
      ".E\n",
      "======================================================================\n",
      "ERROR: test_state_index (__main__.RM_helper_tests)\n",
      "----------------------------------------------------------------------\n",
      "Traceback (most recent call last):\n",
      "  File \"<ipython-input-23-fe97bc4d6566>\", line 9, in test_state_index\n",
      "    state_number = RM_helper.state_index(test_states, test_capacity, test_remain_cap)\n",
      "AttributeError: module 'src.RM_helper' has no attribute 'state_index'\n",
      "\n",
      "----------------------------------------------------------------------\n",
      "Ran 2 tests in 0.004s\n",
      "\n",
      "FAILED (errors=1)\n"
     ]
    },
    {
     "data": {
      "text/plain": [
       "<unittest.runner.TextTestResult run=2 errors=1 failures=0>"
      ]
     },
     "execution_count": 23,
     "metadata": {},
     "output_type": "execute_result"
    }
   ],
   "source": [
    "\n",
    "class RM_helper_tests(unittest.TestCase):\n",
    "\n",
    "    def test_state_index(self):\n",
    "        test_states = 12\n",
    "        test_capacity = [1,2,1]\n",
    "        test_remain_cap = [0, 2, 1]\n",
    "        expected_state_number = 5\n",
    "        state_number = RM_helper.state_index(test_states, test_capacity, test_remain_cap)\n",
    "        np.testing.assert_equal(state_number, expected_state_number)\n",
    "        \n",
    "    def test_remain_cap(self):\n",
    "        test_states = 12\n",
    "        test_capacity = [1,2,1]\n",
    "        test_state_number = 3\n",
    "        expected_remain_cap = [0, 1, 1]\n",
    "        remain_cap = RM_helper.remain_cap(test_states, test_capacity, test_state_number)\n",
    "        np.testing.assert_equal(remain_cap, expected_remain_cap)\n",
    "        \n",
    "    \n",
    "a = RM_helper_tests()\n",
    "suite = unittest.TestLoader().loadTestsFromModule(a)\n",
    "unittest.TextTestRunner().run(suite)"
   ]
  },
  {
   "cell_type": "code",
   "execution_count": null,
   "metadata": {
    "collapsed": true
   },
   "outputs": [],
   "source": []
  }
 ],
 "metadata": {
  "kernelspec": {
   "display_name": "Python 3",
   "language": "python",
   "name": "python3"
  },
  "language_info": {
   "codemirror_mode": {
    "name": "ipython",
    "version": 3
   },
   "file_extension": ".py",
   "mimetype": "text/x-python",
   "name": "python",
   "nbconvert_exporter": "python",
   "pygments_lexer": "ipython3",
   "version": "3.6.0"
  }
 },
 "nbformat": 4,
 "nbformat_minor": 2
}
