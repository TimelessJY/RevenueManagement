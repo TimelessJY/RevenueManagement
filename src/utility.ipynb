{
 "cells": [
  {
   "cell_type": "code",
   "execution_count": 1,
   "metadata": {
    "collapsed": false
   },
   "outputs": [
    {
     "name": "stdout",
     "output_type": "stream",
     "text": [
      "[(1, 0.3, 240), (5, 0.8, 465), (7, 1, 505)]\n"
     ]
    }
   ],
   "source": [
    "import warnings\n",
    "\n",
    "# Identifies a list of efficient sets, given information about all possible sets\n",
    "# Qs: a list of probability of purchase for each set\n",
    "# Rs: a list of expected revenue for each set\n",
    "# returns a list of efficient sets, in the form of (setIndex, Q, R)\n",
    "def efficientSets(Qs, Rs):\n",
    "    if len(Rs) != len(Qs):\n",
    "        warnings.warn(\"Wrong size of input in efficientSets()\")\n",
    "\n",
    "    sets = min(len(Qs), len(Rs))    # number of all sets\n",
    "\n",
    "    effiSets = list()   # stores output\n",
    "    prevEffiSet = -1    # store the previous efficient set, start with empty set\n",
    "    prevQ = 0   # store the choice probability of the previous efficient set\n",
    "    prevR = 0   # store the revenue of the previous efficient set\n",
    "\n",
    "    while True:\n",
    "        nextEffiSet = -1     # store the next efficient set\n",
    "        maxMarginalRevenueRatio = 0\n",
    "        hasPotentialSet = False\n",
    "        for i in range(sets):\n",
    "            if i == prevEffiSet:\n",
    "                continue\n",
    "            q = float(Qs[i])\n",
    "            r = Rs[i]\n",
    "            if q >= prevQ and r >= prevR:\n",
    "                hasPotentialSet = True\n",
    "                marginalRevenueRatio = (r - prevR) / (q - prevQ)\n",
    "                if marginalRevenueRatio > maxMarginalRevenueRatio:\n",
    "                    nextEffiSet = i\n",
    "                    maxMarginalRevenueRatio = marginalRevenueRatio\n",
    "        if hasPotentialSet is False:\n",
    "            # stop if there isn't any potential efficient sets\n",
    "            break\n",
    "        elif nextEffiSet >= 0:    # if find a new efficient set\n",
    "            prevEffiSet = nextEffiSet\n",
    "            prevQ = Qs[nextEffiSet]\n",
    "            prevR = Rs[nextEffiSet]\n",
    "            effiSets.append((nextEffiSet + 1, prevQ, prevR))\n",
    "\n",
    "\n",
    "    return effiSets"
   ]
  },
  {
   "cell_type": "code",
   "execution_count": null,
   "metadata": {
    "collapsed": true
   },
   "outputs": [],
   "source": []
  }
 ],
 "metadata": {
  "kernelspec": {
   "display_name": "Python 3",
   "language": "python",
   "name": "python3"
  },
  "language_info": {
   "codemirror_mode": {
    "name": "ipython",
    "version": 3
   },
   "file_extension": ".py",
   "mimetype": "text/x-python",
   "name": "python",
   "nbconvert_exporter": "python",
   "pygments_lexer": "ipython3",
   "version": "3.6.0"
  }
 },
 "nbformat": 4,
 "nbformat_minor": 2
}
