{
 "cells": [
  {
   "cell_type": "code",
   "execution_count": 67,
   "metadata": {
    "collapsed": true
   },
   "outputs": [],
   "source": [
    "import numpy as np\n",
    "import time\n",
    "import random\n",
    "import bisect"
   ]
  },
  {
   "cell_type": "code",
   "execution_count": 27,
   "metadata": {
    "collapsed": false
   },
   "outputs": [],
   "source": [
    "def sort_product_demands(products):\n",
    "    \"\"\"\n",
    "    sorts the given products of form:[product_name, demand, revenue], into a list of [product_name, revenue]\n",
    "    and a list of demands, according to the descending order of the revenue of each product\n",
    "    \"\"\"\n",
    "    n_products = len(products)\n",
    "    demands = []\n",
    "    demands_with_name = []\n",
    "    products.sort(key = lambda tup: tup[2], reverse=True)\n",
    "    demands = [p[1] for p in products]\n",
    "    demands_with_name = [[p[0], p[1]] for p in products]\n",
    "    products = [[p[0], p[2]] for p in products]\n",
    "    return (products, demands, demands_with_name)\n",
    "\n",
    "def marginal_value_check(value_func):\n",
    "    \"\"\"checks whether the marginal values in computed value functions satisfy the proposition 2.21\"\"\"\n",
    "    dim = len(value_func)\n",
    "    for j in range(dim):\n",
    "        delta_V= [x-y for x, y in zip(value_func[j][1:], value_func[j])]\n",
    "        print(\"delta = \", delta_V)\n",
    "        if any(delta_V[i] < delta_V[i+1] for i in range(len(delta_V) - 1)):\n",
    "            print(\"error type 1\")\n",
    "        if j < (dim -1):\n",
    "            delta_V_next = [x-y for x, y in zip(value_func[j+1][1:], value_func[j+1])]\n",
    "            print(\"delta_next = \", delta_V_next)\n",
    "            if any(delta_V[i] > delta_V_next[i] for i in range(len(delta_V))):\n",
    "                print(\"error type 2\")\n",
    "\n",
    "def calc_incidence_matrix(products, resources):\n",
    "    \"\"\"constructs the incidence matrix, indicating which product uses which resources, \n",
    "        e.g. incidence_matrix[i][j] = 1 if product j uses resource i\n",
    "        size n_resources * n_products\"\"\"\n",
    "    \n",
    "    n_products = len(products)\n",
    "    n_resources = len(resources)\n",
    "\n",
    "    incidence_matrix = [[0] * n_products for _ in range(n_resources)] \n",
    "\n",
    "    for i in range(n_resources):\n",
    "        for j in range(n_products):\n",
    "            if resources[i] in products[j][0]: # test if product j uses resource i\n",
    "                incidence_matrix[i][j] = 1\n",
    "    return incidence_matrix"
   ]
  },
  {
   "cell_type": "code",
   "execution_count": 62,
   "metadata": {
    "collapsed": false
   },
   "outputs": [],
   "source": [
    "def state_index(n_states, capacities, remain_cap):\n",
    "    \"\"\"converts the given array of remaining capacities into the state number\"\"\"\n",
    "    \"\"\"e.g. given total capacities [1,2,1], and the remained capacities [0, 2, 1], should return 5\"\"\"\n",
    "\n",
    "    if n_states == 0:\n",
    "        n_states = 1\n",
    "        for c in capacities:\n",
    "            n_states *= (c + 1)\n",
    "    \n",
    "    state_num = 0\n",
    "    capacity_for_others = n_states\n",
    "\n",
    "    for i in range(len(capacities)):\n",
    "        capacity_for_others /= capacities[i] + 1\n",
    "        state_num += remain_cap[i] * capacity_for_others\n",
    "    return int(state_num)\n",
    "        \n",
    "def remain_cap(n_states, capacities, state_number):\n",
    "    \"\"\"reverse of function state_number(), to convert the given state number into remained capacities\"\"\"\n",
    "    \"\"\"e.g. given total capacities [1,2,3] and state_number 5, should return [0, 2, 1]\"\"\"\n",
    "\n",
    "    if state_number >= n_states:\n",
    "        raise RuntimeError(\n",
    "            'Error when converting state number to remained capacities; given state number is too large.')\n",
    "\n",
    "    remain_cap = []\n",
    "    capacity_for_others = n_states\n",
    "\n",
    "    for i in range(len(capacities)):\n",
    "        capacity_for_others /= capacities[i] + 1\n",
    "        remain_cap.append(int(state_number // capacity_for_others))\n",
    "        state_number %= capacity_for_others\n",
    "    return remain_cap\n"
   ]
  },
  {
   "cell_type": "code",
   "execution_count": 81,
   "metadata": {
    "collapsed": false
   },
   "outputs": [],
   "source": [
    "def sample_network_demands(demands, total_time):\n",
    "    \"\"\"samples a series of index of products, whose request arrives at each period in the given total time \"\"\"\n",
    "    cumu_prob = [0] * len(demands)\n",
    "    up_to = 0\n",
    "    for i in range(len(demands)):\n",
    "        up_to += demands[i]\n",
    "        cumu_prob[i] = up_to\n",
    "\n",
    "    cumu_prob.append(1.0)\n",
    "    \n",
    "    sample_index = [0] * total_time\n",
    "    for t in range(total_time):\n",
    "        rand = random.random()\n",
    "        fall_into = bisect.bisect(cumu_prob, rand)\n",
    "        sample_index[t] = fall_into\n",
    "    return sample_index\n",
    "\n",
    "def sample_single_static_demands(demands):\n",
    "    \"\"\"samples a series of demands, based on the distributions of demand of each products. \"\"\"\n",
    "    sampled_demands = []\n",
    "    for i in range(len(demands)):\n",
    "        sample = np.random.normal(demands[i][0], demands[i][1])\n",
    "        sampled_demands.append(int(sample))\n",
    "        \n",
    "    return sampled_demands\n"
   ]
  },
  {
   "cell_type": "code",
   "execution_count": 68,
   "metadata": {
    "collapsed": false
   },
   "outputs": [],
   "source": [
    "def network_bid_prices(value_func, products, resources, capacities, incidence_matrix, n_states):\n",
    "    \"\"\"Calculate the bid prices for resources at every state in every time period.\"\"\"\n",
    "    \"\"\"Time index convention: starts from t=1, terminates at t=T, where len(value_func) = T \"\"\"\n",
    "    bid_prices = []\n",
    "\n",
    "    n_resources = len(resources)\n",
    "    if not incidence_matrix:\n",
    "        incidence_matrix = calc_incidence_matrix(products, resources)\n",
    "        \n",
    "    for t in range(len(value_func)):\n",
    "        bid_price_t = []\n",
    "        for s in range(n_states):\n",
    "            A = []\n",
    "            b = []\n",
    "            bp_t_s = [None] * n_resources\n",
    "            for j in range(len(products)):\n",
    "                incidence_vector = [row[j] for row in incidence_matrix]\n",
    "                if incidence_vector not in A:\n",
    "                    V_diff = value_func[t][s]\n",
    "                    remained_cap = remain_cap(n_states, capacities, s)\n",
    "                    reduced_cap = [a_i - b_i for a_i, b_i in zip(remained_cap, incidence_vector)]\n",
    "                    if all(c >= 0 for c in reduced_cap):\n",
    "                        V_diff -= value_func[t][state_index(n_states, capacities, reduced_cap)]\n",
    "                        if sum(incidence_vector) == 1:\n",
    "                            bp_t_s[incidence_vector.index(1)] = V_diff\n",
    "                    A.append(incidence_vector)\n",
    "                    b.append(V_diff)\n",
    "#             print(\"bp_t_s:\", bp_t_s)\n",
    "            if any(bp is None for bp in bp_t_s):\n",
    "                if not A:\n",
    "                    bp_t_s = [0] * n_resources\n",
    "                elif len(A) < n_resources:\n",
    "                    bp_t_s = [0 if x is None else x for x in bp_t_s]\n",
    "                else:\n",
    "                    A_solve = A[:n_resources]\n",
    "                    b_solve = b[:n_resources]\n",
    "#                     print(\"A,b=\", A_solve, b_solve)\n",
    "                    bp = np.linalg.solve(A_solve, b_solve)\n",
    "#                     print(\"result=\", bp)\n",
    "                    bp_t_s = [0 if x < 0 else x for x in bp]\n",
    "\n",
    "            bid_price_t.append([round(bp_r, 3) for bp_r in bp_t_s])\n",
    "        bid_prices.append(bid_price_t)\n",
    "    return bid_prices\n"
   ]
  },
  {
   "cell_type": "code",
   "execution_count": 82,
   "metadata": {
    "collapsed": true
   },
   "outputs": [],
   "source": [
    "def single_bid_prices(value_func, products, capacity):\n",
    "    \"\"\"Calculate the bid price in single-static RM problems, for each product, at each capacity level.\"\"\"\n",
    "    bid_prices = []\n",
    "# self.value_functions = [[0] * (self.capacity + 1) for _ in range(self.n_products)]\n",
    "    for j in range(len(value_func) - 1):\n",
    "        bid_price_j = [0]\n",
    "        for x in range(1, capacity + 1):\n",
    "            bid_price = value_func[j][x] - value_func[j][x-1]\n",
    "            bid_price_j.append(round(bid_price, 3))\n",
    "            \n",
    "        bid_prices.append(bid_price_j)\n",
    "    return bid_prices\n"
   ]
  },
  {
   "cell_type": "code",
   "execution_count": null,
   "metadata": {
    "collapsed": true
   },
   "outputs": [],
   "source": []
  }
 ],
 "metadata": {
  "kernelspec": {
   "display_name": "Python 3",
   "language": "python",
   "name": "python3"
  },
  "language_info": {
   "codemirror_mode": {
    "name": "ipython",
    "version": 3
   },
   "file_extension": ".py",
   "mimetype": "text/x-python",
   "name": "python",
   "nbconvert_exporter": "python",
   "pygments_lexer": "ipython3",
   "version": "3.6.0"
  }
 },
 "nbformat": 4,
 "nbformat_minor": 2
}
