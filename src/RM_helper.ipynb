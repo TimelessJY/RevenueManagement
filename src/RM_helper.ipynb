{
 "cells": [
  {
   "cell_type": "code",
   "execution_count": 1,
   "metadata": {
    "collapsed": false
   },
   "outputs": [],
   "source": [
    "def sort_product_demands(products):\n",
    "    \"\"\"\n",
    "    sorts the given products of form:[product_name, demand, revenue], into a list of [product_name, revenue]\n",
    "    and a list of demands, according to the descending order of the revenue of each product\n",
    "    \"\"\"\n",
    "    n_products = len(products)\n",
    "    demands = []\n",
    "    demands_with_name = []\n",
    "    products.sort(key = lambda tup: tup[2], reverse=True)\n",
    "    demands = [p[1] for p in products]\n",
    "    demands_with_name = [[p[0], p[1]] for p in products]\n",
    "    products = [[p[0], p[2]] for p in products]\n",
    "    return (products, demands, demands_with_name)\n",
    "\n",
    "def marginal_value_check(value_func):\n",
    "    \"\"\"checks whether the marginal values in computed value functions satisfy the proposition 2.21\"\"\"\n",
    "    dim = len(value_func)\n",
    "    for j in range(dim):\n",
    "        delta_V= [x-y for x, y in zip(value_func[j][1:], value_func[j])]\n",
    "        print(\"delta = \", delta_V)\n",
    "        if any(delta_V[i] < delta_V[i+1] for i in range(len(delta_V) - 1)):\n",
    "            print(\"error type 1\")\n",
    "        if j < (dim -1):\n",
    "            delta_V_next = [x-y for x, y in zip(value_func[j+1][1:], value_func[j+1])]\n",
    "            print(\"delta_next = \", delta_V_next)\n",
    "            if any(delta_V[i] > delta_V_next[i] for i in range(len(delta_V))):\n",
    "                print(\"error type 2\")\n",
    "\n",
    "def calc_incidence_matrix(products, resources):\n",
    "    \"\"\"constructs the incidence matrix, indicating which product uses which resources, \n",
    "        e.g. incidence_matrix[i][j] = 1 if product j uses resource i\n",
    "        size n_resources * n_products\"\"\"\n",
    "    \n",
    "    n_products = len(products)\n",
    "    n_resources = len(resources)\n",
    "\n",
    "    incidence_matrix = [[0] * n_products for _ in range(n_resources)] \n",
    "\n",
    "    for i in range(n_resources):\n",
    "        for j in range(n_products):\n",
    "            if resources[i] in products[j][0]: # test if product j uses resource i\n",
    "                incidence_matrix[i][j] = 1\n",
    "    return incidence_matrix"
   ]
  },
  {
   "cell_type": "code",
   "execution_count": 2,
   "metadata": {
    "collapsed": true
   },
   "outputs": [],
   "source": [
    "def state_index(n_states, capacities, remain_cap):\n",
    "    \"\"\"converts the given array of remaining capacities into the state number\"\"\"\n",
    "    \"\"\"e.g. given total capacities [1,2,1], and the remained capacities [0, 2, 1], should return 5\"\"\"\n",
    "\n",
    "    state_num = 0\n",
    "    capacity_for_others = n_states\n",
    "\n",
    "    for i in range(len(capacities)):\n",
    "        capacity_for_others /= capacities[i] + 1\n",
    "        state_num += remain_cap[i] * capacity_for_others\n",
    "    return int(state_num)\n",
    "        \n",
    "def remain_cap(n_states, capacities, state_number):\n",
    "    \"\"\"reverse of function state_number(), to convert the given state number into remained capacities\"\"\"\n",
    "    \"\"\"e.g. given total capacities [1,2,3] and state_number 5, should return [0, 2, 1]\"\"\"\n",
    "\n",
    "    if state_number >= n_states:\n",
    "        raise RuntimeError(\n",
    "            'Error when converting state number to remained capacities; given state number is too large.')\n",
    "\n",
    "    remain_cap = []\n",
    "    capacity_for_others = n_states\n",
    "\n",
    "    for i in range(len(capacities)):\n",
    "        capacity_for_others /= capacities[i] + 1\n",
    "        remain_cap.append(int(state_number // capacity_for_others))\n",
    "        state_number %= capacity_for_others\n",
    "    return remain_cap"
   ]
  },
  {
   "cell_type": "code",
   "execution_count": null,
   "metadata": {
    "collapsed": true
   },
   "outputs": [],
   "source": []
  }
 ],
 "metadata": {
  "kernelspec": {
   "display_name": "Python 3",
   "language": "python",
   "name": "python3"
  },
  "language_info": {
   "codemirror_mode": {
    "name": "ipython",
    "version": 3
   },
   "file_extension": ".py",
   "mimetype": "text/x-python",
   "name": "python",
   "nbconvert_exporter": "python",
   "pygments_lexer": "ipython3",
   "version": "3.6.0"
  }
 },
 "nbformat": 4,
 "nbformat_minor": 2
}
