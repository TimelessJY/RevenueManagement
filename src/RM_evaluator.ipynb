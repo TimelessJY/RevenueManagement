{
 "cells": [
  {
   "cell_type": "code",
   "execution_count": 62,
   "metadata": {
    "collapsed": true
   },
   "outputs": [],
   "source": [
    "import itertools\n",
    "import sys\n",
    "sys.path.append('.')\n",
    "import RM_helper\n",
    "import random"
   ]
  },
  {
   "cell_type": "code",
   "execution_count": 63,
   "metadata": {
    "collapsed": false
   },
   "outputs": [
    {
     "data": {
      "text/plain": [
       "([[1, 0, 0, 0, 0, 0, 1, 1, 0, 0, 0, 0, 1, 0, 0],\n",
       "  [0, 1, 0, 0, 0, 0, 0, 0, 1, 1, 0, 0, 0, 1, 0],\n",
       "  [0, 0, 1, 0, 0, 0, 0, 0, 0, 0, 1, 1, 0, 0, 1],\n",
       "  [0, 0, 0, 1, 0, 0, 0, 0, 0, 1, 1, 0, 1, 0, 0],\n",
       "  [0, 0, 0, 0, 1, 0, 1, 0, 0, 0, 0, 1, 0, 1, 0],\n",
       "  [0, 0, 0, 0, 0, 1, 0, 1, 1, 0, 0, 0, 0, 0, 1]],\n",
       " [['A-HUB,1', 123, 0.007442547150689097],\n",
       "  ['B-HUB,1', 85, 0.012414247452867668],\n",
       "  ['C-HUB,1', 116, 0.015926308252073876],\n",
       "  ['HUB-A,1', 123, 0.023274781213208483],\n",
       "  ['HUB-B,1', 121, 0.0007773395443237861],\n",
       "  ['HUB-C,1', 125, 0.015302599478167441],\n",
       "  ['A-HUB-B,1', 71, 0.021147507060877622],\n",
       "  ['A-HUB-C,1', 215, 0.019422883444250482],\n",
       "  ['B-HUB-C,1', 238, 0.036708402844128296],\n",
       "  ['B-HUB-A,1', 158, 0.025945208490653508],\n",
       "  ['C-HUB-A,1', 156, 0.009289931963209465],\n",
       "  ['C-HUB-B,1', 161, 0.018492970742104684],\n",
       "  ['A-HUB-A,1', 74, 0.05113849897615404],\n",
       "  ['B-HUB-B,1', 140, 0.033583172485465364],\n",
       "  ['C-HUB-C,1', 192, 0.009133600901826177]])"
      ]
     },
     "execution_count": 63,
     "metadata": {},
     "output_type": "execute_result"
    }
   ],
   "source": [
    "PRICE_LIMITS = [150, 250]\n",
    "\n",
    "def generate_network(n_spokes, demand_model):\n",
    "    \"\"\"Generates a network using the given number of spokes, and the demand model, with random prices, and arrival rates\n",
    "    of itineraries. Currently only supports 1 fare class per itinerary. \"\"\"\n",
    "    resources = [] # records flight legs names\n",
    "    itineraries = [] # records names and (revenue, arrival rate) pairs of fare classes of itineraries\n",
    "    hub_name = 'HUB'\n",
    "    spoke_names = []\n",
    "    \n",
    "    # produce flight legs (single-direction)\n",
    "    for i in range(n_spokes):\n",
    "        spoke_name = chr(65 + i)\n",
    "        spoke_names.append(spoke_name)\n",
    "        resources.append(spoke_name + '-' + hub_name)\n",
    "    \n",
    "    # produce single-leg itineraries\n",
    "    single_legs = resources[:]\n",
    "    single_legs += reverse_itinerary(resources)\n",
    "    \n",
    "    # produce double-leg itineraries\n",
    "    double_legs = []\n",
    "    two_spoke_pairs = list(itertools.combinations(''.join(spoke_names), 2))\n",
    "    for pair in two_spoke_pairs:\n",
    "        iti = '-'.join([pair[0], hub_name, pair[1]])\n",
    "        double_legs.append(iti)\n",
    "    \n",
    "    double_legs += reverse_itinerary(double_legs)\n",
    "    \n",
    "    # produce double-leg itineraries, between the hub and the same spoke, i.e. round-trips between spoke and hub\n",
    "    round_legs = []\n",
    "    for spoke in spoke_names:\n",
    "        round_legs.append('-'.join([spoke, hub_name, spoke]))\n",
    "    \n",
    "    # aggregate all itineraries, and randomly generate the price and arrival rate\n",
    "    itineraries += single_legs + double_legs + round_legs\n",
    "    f = len(itineraries)\n",
    "    demands = generate_random_arrival_rate(f, 0.3, demand_model)\n",
    "    for i in range(f):\n",
    "        full_iti = [itineraries[i]]\n",
    "        arrival_rate = demands[i]\n",
    "        price = generate_random_price(itineraries[i])\n",
    "        full_iti.append([(price, arrival_rate)])\n",
    "        itineraries[i] = full_iti\n",
    "    return resources, itineraries\n",
    "    \n",
    "def reverse_itinerary(itinerary_names):\n",
    "    \"\"\"helper func: given a list of itinerary names, generate a list of reversed itineraries for them. \"\"\"\n",
    "    reversed_itineraries = []\n",
    "    for itinerary in itinerary_names:\n",
    "        nodes = itinerary.split('-')\n",
    "        nodes.reverse()\n",
    "        reversed_name = '-'.join(nodes)\n",
    "        reversed_itineraries.append(reversed_name)\n",
    "    return reversed_itineraries\n",
    "\n",
    "def generate_random_arrival_rate(n, total_sum, demand_model):\n",
    "    \"\"\"helper func: generate n random values in [0,1] and normalize them so that their sum is equal to total_sum.\"\"\"\n",
    "    if demand_model == 1:\n",
    "        # constant arrival rates for classes over time\n",
    "        M = sys.maxsize\n",
    "        x = random.sample(range(M), n - 1)\n",
    "        x.insert(0, 0)\n",
    "        x.append(M)\n",
    "        x.sort()\n",
    "        y = [x[i + 1] - x[i] for i in range(n)]\n",
    "        unit_simplex = [y_i / (1/total_sum * M) for y_i in y]\n",
    "        return unit_simplex\n",
    "    else:\n",
    "        print(\"TODO:implement model 2\")\n",
    "\n",
    "def generate_random_price(itinerary_name):\n",
    "    \"\"\"helper func: generate a random price for the given itinerary, limit depends on how many flight legs it uses.\"\"\"\n",
    "    leg_num = itinerary_name.count('-')\n",
    "    price = random.randint(50, PRICE_LIMITS[leg_num-1])\n",
    "    return price\n",
    "\n",
    "# resources, itineraries = generate_network(3, 1)\n",
    "# RM_helper.extract_legs_info(itineraries, resources)"
   ]
  },
  {
   "cell_type": "code",
   "execution_count": null,
   "metadata": {
    "collapsed": true
   },
   "outputs": [],
   "source": []
  }
 ],
 "metadata": {
  "kernelspec": {
   "display_name": "Python 3",
   "language": "python",
   "name": "python3"
  },
  "language_info": {
   "codemirror_mode": {
    "name": "ipython",
    "version": 3
   },
   "file_extension": ".py",
   "mimetype": "text/x-python",
   "name": "python",
   "nbconvert_exporter": "python",
   "pygments_lexer": "ipython3",
   "version": "3.6.0"
  }
 },
 "nbformat": 4,
 "nbformat_minor": 2
}
