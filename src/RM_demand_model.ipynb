{
 "cells": [
  {
   "cell_type": "code",
   "execution_count": 4,
   "metadata": {
    "collapsed": true
   },
   "outputs": [],
   "source": [
    "import random\n",
    "import numpy as np"
   ]
  },
  {
   "cell_type": "code",
   "execution_count": 5,
   "metadata": {
    "collapsed": false
   },
   "outputs": [],
   "source": [
    "class model():\n",
    "    \"\"\"Demand model for RM network problems, provides relative functionality.\n",
    "            \n",
    "    Given:\n",
    "    ----------\n",
    "    arrival_rates: 2D np array\n",
    "        contains levels of arrival rates, low, medium, high, for products.\n",
    "    model_type: integer\n",
    "        1: time homogeneous arrival rates. \n",
    "        2: medium arrival rates for the first T/2 time periods; \n",
    "                with probability p, high arrival_rates for the last T/2 time periods; with probability 1-p, low. \n",
    "    total_time: integer\n",
    "        the horizon over which the demand model is applied on. \n",
    "    p: float\n",
    "        in model 2, the probability that the rates level after half time changes to high, (1-p) for changing to low.\n",
    "    \"\"\"\n",
    "    \n",
    "    arrival_rates = {}\n",
    "    rates_levels = []\n",
    "    \n",
    "    def __init__(self, arrival_rates, total_time, model_type, p=0):\n",
    "        if model_type > 2:\n",
    "            raise ValueError('Unrecognized demand model.')\n",
    "        if not arrival_rates:\n",
    "            raise ValueError('No arrival rates data given.')\n",
    "            \n",
    "        self.model_type = model_type\n",
    "        self.total_time = total_time\n",
    "        self.change_time = int(total_time / 2)\n",
    "        self.p = p\n",
    "        \n",
    "        if any(sum(rates) > 1 for rates in arrival_rates):\n",
    "            raise ValueError('Arrival rates sum over 1, there might be more than 1 command arriving.')\n",
    "        self.extract_arrival_rates(arrival_rates)\n",
    "        self.set_up_rates_levels()\n",
    "        \n",
    "    def extract_arrival_rates(self, arrival_rates):\n",
    "        \"\"\"helper func: extract out arrival rates into three different levels. \"\"\"\n",
    "        self.arrival_rates['low'] = arrival_rates[0]\n",
    "        \n",
    "        if self.model_type == 2:\n",
    "            if len(arrival_rates) < 3:\n",
    "                raise ValueError('Missing arrival rates data for the chosen model type.')\n",
    "                \n",
    "            self.arrival_rates['med'] = arrival_rates[1]\n",
    "            self.arrival_rates['hi'] = arrival_rates[2]\n",
    "            \n",
    "    def set_up_rates_levels(self):\n",
    "        \"\"\"helper func: decides the demand level at each time period, to be used over the whole process. \"\"\"\n",
    "        if self.model_type == 1:\n",
    "            self.rates_levels = ['low'] * self.total_time\n",
    "        else:\n",
    "            # model 2, medium for the first half of time periods\n",
    "            self.rates_levels = ['med'] * self.change_time\n",
    "            # with probability p, changes to high level afterwards\n",
    "            new_level = 'low'\n",
    "            rand = np.random.binomial(1, self.p)\n",
    "            if rand == 1:\n",
    "                new_level = 'hi'\n",
    "            self.rates_levels += [new_level] * (self.total_time - self.change_time)      \n",
    "        print(\"levels = \", self.rates_levels)\n",
    "        \n",
    "    def current_arrival_rates(self, t):\n",
    "        \"\"\" returns a list of arrival rates for products at the given time period. \"\"\"\n",
    "        if t >= self.total_time:\n",
    "            raise ValueError(\"Not valid time period.\")\n",
    "        return self.arrival_rates[self.rates_levels[t]]\n",
    "    \n",
    "    def current_mean_demands(self, curr_time):\n",
    "        \"\"\" returns the mean demands of products at the current time. \"\"\"\n",
    "        sums = [0] * len(self.arrival_rates['low'])\n",
    "        for t in range(curr_time, self.total_time):\n",
    "            sums = [sum(x) for x in zip(sums, self.current_arrival_rates(t))]\n",
    "            \n",
    "        return sums\n",
    "        \n",
    "# rates = [[0.1, 0.2, 0.3],[0.4, 0.5, 0.6], [0.7, 0.8,0.9]]\n",
    "# dm = model(rates, 10, 2, 0.5)\n",
    "# dm.current_arrival_rates(1)\n",
    "# dm.current_mean_demands(0)\n",
    "# dm.set_up_rates_levels()"
   ]
  },
  {
   "cell_type": "code",
   "execution_count": null,
   "metadata": {
    "collapsed": true
   },
   "outputs": [],
   "source": []
  }
 ],
 "metadata": {
  "kernelspec": {
   "display_name": "Python 3",
   "language": "python",
   "name": "python3"
  },
  "language_info": {
   "codemirror_mode": {
    "name": "ipython",
    "version": 3
   },
   "file_extension": ".py",
   "mimetype": "text/x-python",
   "name": "python",
   "nbconvert_exporter": "python",
   "pygments_lexer": "ipython3",
   "version": "3.6.0"
  }
 },
 "nbformat": 4,
 "nbformat_minor": 2
}
